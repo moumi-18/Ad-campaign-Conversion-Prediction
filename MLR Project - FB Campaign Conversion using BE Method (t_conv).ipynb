{
 "cells": [
  {
   "cell_type": "markdown",
   "metadata": {},
   "source": [
    "### Problem Statement: \n",
    "#### A digital markeing agency ran an ad-campaign on facebook. As per their data collected, we need to predict the total conversion for future campaigns based on multiple parameters used."
   ]
  },
  {
   "cell_type": "code",
   "execution_count": null,
   "metadata": {},
   "outputs": [],
   "source": [
    "# 1. import libraries\n",
    "# 2. import data\n",
    "# 3. EDA - \n",
    "# a. Univariate Analysis\n",
    "#    a.i) Checking Missing Values\n",
    "#    a.ii) Remove outliers\n",
    "# b. Bivariate Analysis - Check relationship between the independent variable & dependent variable\n",
    "#    b.i) Correlation Co-efficient Between variables\n",
    "#    b.ii) Heatmap (10x10 Matrix)\n",
    "\n",
    "# 4. Data Partition\n",
    "# 5. Model Building\n",
    "# a. Multicolinearity - with VIF\n",
    "# b. Removing the insignificant variable\n",
    "# c. Backward Elimination Method\n",
    "# d. VIF of Model\n",
    "\n",
    "# 6. Assumption of Model\n",
    "# a) Homoscedasicity\n",
    "# b) Normality\n",
    "# c) Model Error IID\n",
    "# 7. Prediction on Test Data\n",
    "# 8. MSE & MAE & RMSE for evaluation of Model on test data\n",
    "# 9. MSE & MAE & RMSE for evaluation of Model on train data"
   ]
  },
  {
   "cell_type": "markdown",
   "metadata": {},
   "source": [
    "# Importing Libraries & Data"
   ]
  },
  {
   "cell_type": "code",
   "execution_count": 1,
   "metadata": {},
   "outputs": [],
   "source": [
    "import numpy as np\n",
    "import pandas as pd\n",
    "import seaborn as sns\n",
    "import matplotlib.pyplot as plt\n",
    "from scipy import stats\n",
    "import statsmodels.api as sm\n",
    "from sklearn.linear_model import LinearRegression   # all models to come under sklearn package - only modelling\n",
    "from sklearn.model_selection import train_test_split\n",
    "from sklearn.metrics import mean_squared_error,r2_score,mean_absolute_error\n",
    "%matplotlib inline\n",
    "import os "
   ]
  },
  {
   "cell_type": "code",
   "execution_count": 2,
   "metadata": {},
   "outputs": [],
   "source": [
    "os.chdir(r'C:\\Users\\RONALD\\Desktop\\Python Code\\Practise\\Projects\\MLR')\n",
    "campaign_data = pd.read_csv('fb-campaign-data1.csv')  #fb-campaign-data.csv"
   ]
  },
  {
   "cell_type": "code",
   "execution_count": 3,
   "metadata": {},
   "outputs": [
    {
     "data": {
      "text/html": [
       "<div>\n",
       "<style scoped>\n",
       "    .dataframe tbody tr th:only-of-type {\n",
       "        vertical-align: middle;\n",
       "    }\n",
       "\n",
       "    .dataframe tbody tr th {\n",
       "        vertical-align: top;\n",
       "    }\n",
       "\n",
       "    .dataframe thead th {\n",
       "        text-align: right;\n",
       "    }\n",
       "</style>\n",
       "<table border=\"1\" class=\"dataframe\">\n",
       "  <thead>\n",
       "    <tr style=\"text-align: right;\">\n",
       "      <th></th>\n",
       "      <th>impressions</th>\n",
       "      <th>clicks</th>\n",
       "      <th>spent</th>\n",
       "      <th>CTR</th>\n",
       "      <th>Avg CPC</th>\n",
       "      <th>App Install</th>\n",
       "      <th>total_conversion</th>\n",
       "    </tr>\n",
       "  </thead>\n",
       "  <tbody>\n",
       "    <tr>\n",
       "      <th>0</th>\n",
       "      <td>7350</td>\n",
       "      <td>2</td>\n",
       "      <td>1.43</td>\n",
       "      <td>0.000272</td>\n",
       "      <td>0.715</td>\n",
       "      <td>0</td>\n",
       "      <td>2</td>\n",
       "    </tr>\n",
       "    <tr>\n",
       "      <th>1</th>\n",
       "      <td>17861</td>\n",
       "      <td>2</td>\n",
       "      <td>1.82</td>\n",
       "      <td>0.000112</td>\n",
       "      <td>0.910</td>\n",
       "      <td>0</td>\n",
       "      <td>2</td>\n",
       "    </tr>\n",
       "    <tr>\n",
       "      <th>2</th>\n",
       "      <td>693</td>\n",
       "      <td>0</td>\n",
       "      <td>0.00</td>\n",
       "      <td>0.000000</td>\n",
       "      <td>0.000</td>\n",
       "      <td>0</td>\n",
       "      <td>0</td>\n",
       "    </tr>\n",
       "    <tr>\n",
       "      <th>3</th>\n",
       "      <td>4259</td>\n",
       "      <td>1</td>\n",
       "      <td>1.25</td>\n",
       "      <td>0.000235</td>\n",
       "      <td>1.250</td>\n",
       "      <td>0</td>\n",
       "      <td>1</td>\n",
       "    </tr>\n",
       "    <tr>\n",
       "      <th>4</th>\n",
       "      <td>4133</td>\n",
       "      <td>1</td>\n",
       "      <td>1.29</td>\n",
       "      <td>0.000242</td>\n",
       "      <td>1.290</td>\n",
       "      <td>0</td>\n",
       "      <td>1</td>\n",
       "    </tr>\n",
       "  </tbody>\n",
       "</table>\n",
       "</div>"
      ],
      "text/plain": [
       "   impressions  clicks  spent       CTR  Avg CPC  App Install  \\\n",
       "0         7350       2   1.43  0.000272    0.715            0   \n",
       "1        17861       2   1.82  0.000112    0.910            0   \n",
       "2          693       0   0.00  0.000000    0.000            0   \n",
       "3         4259       1   1.25  0.000235    1.250            0   \n",
       "4         4133       1   1.29  0.000242    1.290            0   \n",
       "\n",
       "   total_conversion  \n",
       "0                 2  \n",
       "1                 2  \n",
       "2                 0  \n",
       "3                 1  \n",
       "4                 1  "
      ]
     },
     "execution_count": 3,
     "metadata": {},
     "output_type": "execute_result"
    }
   ],
   "source": [
    "campaign_data.head()"
   ]
  },
  {
   "cell_type": "code",
   "execution_count": 4,
   "metadata": {},
   "outputs": [],
   "source": [
    "#campaign_data = campaign_data.drop('Unnamed: 7', axis=1)\n",
    "#campaign_data.columns"
   ]
  },
  {
   "cell_type": "code",
   "execution_count": 4,
   "metadata": {},
   "outputs": [
    {
     "name": "stdout",
     "output_type": "stream",
     "text": [
      "<class 'pandas.core.frame.DataFrame'>\n",
      "RangeIndex: 1143 entries, 0 to 1142\n",
      "Data columns (total 7 columns):\n",
      "impressions         1143 non-null int64\n",
      "clicks              1143 non-null int64\n",
      "spent               1143 non-null float64\n",
      "CTR                 1143 non-null float64\n",
      "Avg CPC             1143 non-null float64\n",
      "App Install         1143 non-null int64\n",
      "total_conversion    1143 non-null int64\n",
      "dtypes: float64(3), int64(4)\n",
      "memory usage: 62.6 KB\n"
     ]
    }
   ],
   "source": [
    "campaign_data.info()"
   ]
  },
  {
   "cell_type": "code",
   "execution_count": 5,
   "metadata": {},
   "outputs": [
    {
     "data": {
      "text/html": [
       "<div>\n",
       "<style scoped>\n",
       "    .dataframe tbody tr th:only-of-type {\n",
       "        vertical-align: middle;\n",
       "    }\n",
       "\n",
       "    .dataframe tbody tr th {\n",
       "        vertical-align: top;\n",
       "    }\n",
       "\n",
       "    .dataframe thead th {\n",
       "        text-align: right;\n",
       "    }\n",
       "</style>\n",
       "<table border=\"1\" class=\"dataframe\">\n",
       "  <thead>\n",
       "    <tr style=\"text-align: right;\">\n",
       "      <th></th>\n",
       "      <th>impressions</th>\n",
       "      <th>clicks</th>\n",
       "      <th>spent</th>\n",
       "      <th>CTR</th>\n",
       "      <th>Avg CPC</th>\n",
       "      <th>App Install</th>\n",
       "      <th>total_conversion</th>\n",
       "    </tr>\n",
       "  </thead>\n",
       "  <tbody>\n",
       "    <tr>\n",
       "      <th>count</th>\n",
       "      <td>1.143000e+03</td>\n",
       "      <td>1143.000000</td>\n",
       "      <td>1143.000000</td>\n",
       "      <td>1143.000000</td>\n",
       "      <td>1143.000000</td>\n",
       "      <td>1143.000000</td>\n",
       "      <td>1143.000000</td>\n",
       "    </tr>\n",
       "    <tr>\n",
       "      <th>mean</th>\n",
       "      <td>1.867321e+05</td>\n",
       "      <td>33.391076</td>\n",
       "      <td>51.360656</td>\n",
       "      <td>0.000164</td>\n",
       "      <td>1.227192</td>\n",
       "      <td>6.759405</td>\n",
       "      <td>2.670166</td>\n",
       "    </tr>\n",
       "    <tr>\n",
       "      <th>std</th>\n",
       "      <td>3.127622e+05</td>\n",
       "      <td>56.891947</td>\n",
       "      <td>86.908418</td>\n",
       "      <td>0.000115</td>\n",
       "      <td>0.615051</td>\n",
       "      <td>13.007637</td>\n",
       "      <td>4.574797</td>\n",
       "    </tr>\n",
       "    <tr>\n",
       "      <th>min</th>\n",
       "      <td>8.700000e+01</td>\n",
       "      <td>0.000000</td>\n",
       "      <td>0.000000</td>\n",
       "      <td>0.000000</td>\n",
       "      <td>0.000000</td>\n",
       "      <td>0.000000</td>\n",
       "      <td>0.000000</td>\n",
       "    </tr>\n",
       "    <tr>\n",
       "      <th>25%</th>\n",
       "      <td>6.503500e+03</td>\n",
       "      <td>1.000000</td>\n",
       "      <td>1.480000</td>\n",
       "      <td>0.000101</td>\n",
       "      <td>1.232000</td>\n",
       "      <td>0.000000</td>\n",
       "      <td>1.000000</td>\n",
       "    </tr>\n",
       "    <tr>\n",
       "      <th>50%</th>\n",
       "      <td>5.150900e+04</td>\n",
       "      <td>8.000000</td>\n",
       "      <td>12.370000</td>\n",
       "      <td>0.000160</td>\n",
       "      <td>1.450000</td>\n",
       "      <td>0.000000</td>\n",
       "      <td>1.000000</td>\n",
       "    </tr>\n",
       "    <tr>\n",
       "      <th>75%</th>\n",
       "      <td>2.217690e+05</td>\n",
       "      <td>37.500000</td>\n",
       "      <td>60.025000</td>\n",
       "      <td>0.000234</td>\n",
       "      <td>1.600000</td>\n",
       "      <td>10.000000</td>\n",
       "      <td>3.000000</td>\n",
       "    </tr>\n",
       "    <tr>\n",
       "      <th>max</th>\n",
       "      <td>3.052003e+06</td>\n",
       "      <td>421.000000</td>\n",
       "      <td>639.949998</td>\n",
       "      <td>0.001059</td>\n",
       "      <td>2.212000</td>\n",
       "      <td>80.000000</td>\n",
       "      <td>60.000000</td>\n",
       "    </tr>\n",
       "  </tbody>\n",
       "</table>\n",
       "</div>"
      ],
      "text/plain": [
       "        impressions       clicks        spent          CTR      Avg CPC  \\\n",
       "count  1.143000e+03  1143.000000  1143.000000  1143.000000  1143.000000   \n",
       "mean   1.867321e+05    33.391076    51.360656     0.000164     1.227192   \n",
       "std    3.127622e+05    56.891947    86.908418     0.000115     0.615051   \n",
       "min    8.700000e+01     0.000000     0.000000     0.000000     0.000000   \n",
       "25%    6.503500e+03     1.000000     1.480000     0.000101     1.232000   \n",
       "50%    5.150900e+04     8.000000    12.370000     0.000160     1.450000   \n",
       "75%    2.217690e+05    37.500000    60.025000     0.000234     1.600000   \n",
       "max    3.052003e+06   421.000000   639.949998     0.001059     2.212000   \n",
       "\n",
       "       App Install  total_conversion  \n",
       "count  1143.000000       1143.000000  \n",
       "mean      6.759405          2.670166  \n",
       "std      13.007637          4.574797  \n",
       "min       0.000000          0.000000  \n",
       "25%       0.000000          1.000000  \n",
       "50%       0.000000          1.000000  \n",
       "75%      10.000000          3.000000  \n",
       "max      80.000000         60.000000  "
      ]
     },
     "execution_count": 5,
     "metadata": {},
     "output_type": "execute_result"
    }
   ],
   "source": [
    "campaign_data.describe()"
   ]
  },
  {
   "cell_type": "markdown",
   "metadata": {},
   "source": [
    "# EDA"
   ]
  },
  {
   "cell_type": "markdown",
   "metadata": {},
   "source": [
    "## A. Univariate Analysis"
   ]
  },
  {
   "cell_type": "markdown",
   "metadata": {},
   "source": [
    "### Checking missing values"
   ]
  },
  {
   "cell_type": "code",
   "execution_count": 6,
   "metadata": {},
   "outputs": [
    {
     "data": {
      "text/plain": [
       "impressions         0\n",
       "clicks              0\n",
       "spent               0\n",
       "CTR                 0\n",
       "Avg CPC             0\n",
       "App Install         0\n",
       "total_conversion    0\n",
       "dtype: int64"
      ]
     },
     "execution_count": 6,
     "metadata": {},
     "output_type": "execute_result"
    }
   ],
   "source": [
    "# ---- to check null values in the dataset\n",
    "campaign_data.isnull().sum(axis=0)    #axis=0 for rows, axis=1 for columns"
   ]
  },
  {
   "cell_type": "code",
   "execution_count": 7,
   "metadata": {},
   "outputs": [
    {
     "name": "stderr",
     "output_type": "stream",
     "text": [
      "C:\\Users\\RONALD\\Anaconda3\\lib\\site-packages\\seaborn\\axisgrid.py:2065: UserWarning: The `size` parameter has been renamed to `height`; pleaes update your code.\n",
      "  warnings.warn(msg, UserWarning)\n"
     ]
    },
    {
     "data": {
      "text/plain": [
       "<seaborn.axisgrid.PairGrid at 0x285f8dcfb70>"
      ]
     },
     "execution_count": 7,
     "metadata": {},
     "output_type": "execute_result"
    },
    {
     "data": {
      "image/png": "[encoded data removed]",
      "text/plain": [
       "<Figure size 907.2x216 with 6 Axes>"
      ]
     },
     "metadata": {
      "needs_background": "light"
     },
     "output_type": "display_data"
    }
   ],
   "source": [
    "# Data Visualization - (* Check outliers also)\n",
    "\n",
    "sns.pairplot(campaign_data, x_vars=['impressions','clicks','spent','CTR', 'Avg CPC', 'App Install'], y_vars='total_conversion', size=3, aspect=0.7, kind='scatter')"
   ]
  },
  {
   "cell_type": "markdown",
   "metadata": {},
   "source": [
    "## Checking & Treating/Removing Outliers"
   ]
  },
  {
   "cell_type": "code",
   "execution_count": 8,
   "metadata": {},
   "outputs": [
    {
     "data": {
      "text/plain": [
       "<matplotlib.axes._subplots.AxesSubplot at 0x285f932c828>"
      ]
     },
     "execution_count": 8,
     "metadata": {},
     "output_type": "execute_result"
    },
    {
     "data": {
      "image/png": "[encoded data removed]",
      "text/plain": [
       "<Figure size 432x288 with 1 Axes>"
      ]
     },
     "metadata": {
      "needs_background": "light"
     },
     "output_type": "display_data"
    }
   ],
   "source": [
    "sns.boxplot(data=campaign_data['impressions'])"
   ]
  },
  {
   "cell_type": "code",
   "execution_count": 9,
   "metadata": {},
   "outputs": [
    {
     "data": {
      "text/plain": [
       "(-316394.75, 544667.25)"
      ]
     },
     "execution_count": 9,
     "metadata": {},
     "output_type": "execute_result"
    }
   ],
   "source": [
    "### ------- Winsorizing technique for variable Impressions---------------\n",
    "\n",
    "q1 = campaign_data['impressions'].quantile(0.25)\n",
    "q3 = campaign_data['impressions'].quantile(0.75)\n",
    "iqr = q3-q1 #Interquartile range\n",
    "low = q1-1.5*iqr #acceptable range\n",
    "high = q3+1.5*iqr  #acceptable range\n",
    "\n",
    "low, high"
   ]
  },
  {
   "cell_type": "code",
   "execution_count": 10,
   "metadata": {},
   "outputs": [
    {
     "data": {
      "text/plain": [
       "<matplotlib.axes._subplots.AxesSubplot at 0x285f8e448d0>"
      ]
     },
     "execution_count": 10,
     "metadata": {},
     "output_type": "execute_result"
    },
    {
     "data": {
      "image/png": "[encoded data removed]",
      "text/plain": [
       "<Figure size 432x288 with 1 Axes>"
      ]
     },
     "metadata": {
      "needs_background": "light"
     },
     "output_type": "display_data"
    }
   ],
   "source": [
    "campaign_data['impressions'] = np.where(campaign_data['impressions'] > high,high,campaign_data['impressions'])  #upper limit\n",
    "\n",
    "campaign_data['impressions'] = np.where(campaign_data['impressions'] < low,low,campaign_data['impressions'])  #lower limit\n",
    "\n",
    "sns.boxplot(y=campaign_data['impressions'])    # for horizontal use x instead of y"
   ]
  },
  {
   "cell_type": "code",
   "execution_count": 11,
   "metadata": {},
   "outputs": [
    {
     "data": {
      "text/plain": [
       "count      1143.000000\n",
       "mean     144418.444226\n",
       "std      184174.591624\n",
       "min          87.000000\n",
       "25%        6503.500000\n",
       "50%       51509.000000\n",
       "75%      221769.000000\n",
       "max      544667.250000\n",
       "Name: impressions, dtype: float64"
      ]
     },
     "execution_count": 11,
     "metadata": {},
     "output_type": "execute_result"
    }
   ],
   "source": [
    "campaign_data['impressions'].describe()"
   ]
  },
  {
   "cell_type": "code",
   "execution_count": 12,
   "metadata": {},
   "outputs": [
    {
     "data": {
      "text/plain": [
       "<matplotlib.axes._subplots.AxesSubplot at 0x285f933ba90>"
      ]
     },
     "execution_count": 12,
     "metadata": {},
     "output_type": "execute_result"
    },
    {
     "data": {
      "image/png": "[encoded data removed]",
      "text/plain": [
       "<Figure size 432x288 with 1 Axes>"
      ]
     },
     "metadata": {
      "needs_background": "light"
     },
     "output_type": "display_data"
    }
   ],
   "source": [
    "sns.boxplot(data=campaign_data['clicks'])"
   ]
  },
  {
   "cell_type": "code",
   "execution_count": 13,
   "metadata": {},
   "outputs": [
    {
     "data": {
      "text/plain": [
       "(-53.75, 92.25)"
      ]
     },
     "execution_count": 13,
     "metadata": {},
     "output_type": "execute_result"
    }
   ],
   "source": [
    "### ------- Winsorizing technique for variable clicks---------------\n",
    "\n",
    "q1 = campaign_data['clicks'].quantile(0.25)\n",
    "q3 = campaign_data['clicks'].quantile(0.75)\n",
    "iqr = q3-q1 #Interquartile range\n",
    "low = q1-1.5*iqr #acceptable range\n",
    "high = q3+1.5*iqr  #acceptable range\n",
    "\n",
    "low, high"
   ]
  },
  {
   "cell_type": "code",
   "execution_count": 14,
   "metadata": {},
   "outputs": [
    {
     "data": {
      "text/plain": [
       "<matplotlib.axes._subplots.AxesSubplot at 0x285f9484e48>"
      ]
     },
     "execution_count": 14,
     "metadata": {},
     "output_type": "execute_result"
    },
    {
     "data": {
      "image/png": "[encoded data removed]",
      "text/plain": [
       "<Figure size 432x288 with 1 Axes>"
      ]
     },
     "metadata": {
      "needs_background": "light"
     },
     "output_type": "display_data"
    }
   ],
   "source": [
    "campaign_data['clicks'] = np.where(campaign_data['clicks'] > high,high,campaign_data['clicks'])  #upper limit\n",
    "\n",
    "campaign_data['clicks'] = np.where(campaign_data['clicks'] < low,low,campaign_data['clicks'])  #lower limit\n",
    "\n",
    "sns.boxplot(y=campaign_data['clicks'])    # for horizontal use x instead of y"
   ]
  },
  {
   "cell_type": "code",
   "execution_count": 15,
   "metadata": {},
   "outputs": [
    {
     "data": {
      "text/plain": [
       "count    1143.000000\n",
       "mean       24.664698\n",
       "std        31.630431\n",
       "min         0.000000\n",
       "25%         1.000000\n",
       "50%         8.000000\n",
       "75%        37.500000\n",
       "max        92.250000\n",
       "Name: clicks, dtype: float64"
      ]
     },
     "execution_count": 15,
     "metadata": {},
     "output_type": "execute_result"
    }
   ],
   "source": [
    "campaign_data['clicks'].describe()"
   ]
  },
  {
   "cell_type": "code",
   "execution_count": 16,
   "metadata": {},
   "outputs": [
    {
     "data": {
      "text/plain": [
       "<matplotlib.axes._subplots.AxesSubplot at 0x285f94eb080>"
      ]
     },
     "execution_count": 16,
     "metadata": {},
     "output_type": "execute_result"
    },
    {
     "data": {
      "image/png": "[encoded data removed]",
      "text/plain": [
       "<Figure size 432x288 with 1 Axes>"
      ]
     },
     "metadata": {
      "needs_background": "light"
     },
     "output_type": "display_data"
    }
   ],
   "source": [
    "sns.boxplot(data=campaign_data['spent'])"
   ]
  },
  {
   "cell_type": "code",
   "execution_count": 17,
   "metadata": {},
   "outputs": [
    {
     "data": {
      "text/plain": [
       "(-86.337499825, 147.842499759)"
      ]
     },
     "execution_count": 17,
     "metadata": {},
     "output_type": "execute_result"
    }
   ],
   "source": [
    "### ------- Winsorizing technique for variable spent---------------\n",
    "\n",
    "q1 = campaign_data['spent'].quantile(0.25)\n",
    "q3 = campaign_data['spent'].quantile(0.75)\n",
    "iqr = q3-q1 #Interquartile range\n",
    "low = q1-1.5*iqr #acceptable range\n",
    "high = q3+1.5*iqr  #acceptable range\n",
    "\n",
    "low, high"
   ]
  },
  {
   "cell_type": "code",
   "execution_count": 18,
   "metadata": {},
   "outputs": [
    {
     "data": {
      "image/png": "[encoded data removed]",
      "text/plain": [
       "<Figure size 432x288 with 1 Axes>"
      ]
     },
     "metadata": {
      "needs_background": "light"
     },
     "output_type": "display_data"
    }
   ],
   "source": [
    "campaign_data['spent'] = np.where(campaign_data['spent'] > high,high,campaign_data['spent'])  #upper limit\n",
    "\n",
    "campaign_data['spent'] = np.where(campaign_data['spent'] < low,low,campaign_data['spent'])  #lower limit\n",
    "\n",
    "cx = sns.boxplot(y=campaign_data['spent'])    # for horizontal use x instead of y"
   ]
  },
  {
   "cell_type": "code",
   "execution_count": 19,
   "metadata": {},
   "outputs": [
    {
     "data": {
      "text/plain": [
       "count    1143.000000\n",
       "mean       38.889503\n",
       "std        50.502589\n",
       "min         0.000000\n",
       "25%         1.480000\n",
       "50%        12.370000\n",
       "75%        60.025000\n",
       "max       147.842500\n",
       "Name: spent, dtype: float64"
      ]
     },
     "execution_count": 19,
     "metadata": {},
     "output_type": "execute_result"
    }
   ],
   "source": [
    "campaign_data['spent'].describe()"
   ]
  },
  {
   "cell_type": "code",
   "execution_count": 20,
   "metadata": {},
   "outputs": [
    {
     "data": {
      "text/plain": [
       "<matplotlib.axes._subplots.AxesSubplot at 0x285f9420048>"
      ]
     },
     "execution_count": 20,
     "metadata": {},
     "output_type": "execute_result"
    },
    {
     "data": {
      "image/png": "[encoded data removed]",
      "text/plain": [
       "<Figure size 432x288 with 1 Axes>"
      ]
     },
     "metadata": {
      "needs_background": "light"
     },
     "output_type": "display_data"
    }
   ],
   "source": [
    "sns.boxplot(data=campaign_data['CTR'])"
   ]
  },
  {
   "cell_type": "code",
   "execution_count": 21,
   "metadata": {},
   "outputs": [
    {
     "data": {
      "text/plain": [
       "(-9.974999999999999e-05, 0.00043424999999999996)"
      ]
     },
     "execution_count": 21,
     "metadata": {},
     "output_type": "execute_result"
    }
   ],
   "source": [
    "### ------- Winsorizing technique for variable CTR---------------\n",
    "\n",
    "q1 = campaign_data['CTR'].quantile(0.25)\n",
    "q3 = campaign_data['CTR'].quantile(0.75)\n",
    "iqr = q3-q1 #Interquartile range\n",
    "low = q1-1.5*iqr #acceptable range\n",
    "high = q3+1.5*iqr  #acceptable range\n",
    "\n",
    "low, high"
   ]
  },
  {
   "cell_type": "code",
   "execution_count": 22,
   "metadata": {},
   "outputs": [
    {
     "data": {
      "text/plain": [
       "<matplotlib.axes._subplots.AxesSubplot at 0x285fa5d87f0>"
      ]
     },
     "execution_count": 22,
     "metadata": {},
     "output_type": "execute_result"
    },
    {
     "data": {
      "image/png": "[encoded data removed]",
      "text/plain": [
       "<Figure size 432x288 with 1 Axes>"
      ]
     },
     "metadata": {
      "needs_background": "light"
     },
     "output_type": "display_data"
    }
   ],
   "source": [
    "campaign_data['CTR'] = np.where(campaign_data['CTR'] > high,high,campaign_data['CTR'])  #upper limit\n",
    "\n",
    "campaign_data['CTR'] = np.where(campaign_data['CTR'] < low,low,campaign_data['CTR'])  #lower limit\n",
    "\n",
    "sns.boxplot(y=campaign_data['CTR'])    # for horizontal use x instead of y"
   ]
  },
  {
   "cell_type": "code",
   "execution_count": 23,
   "metadata": {},
   "outputs": [
    {
     "data": {
      "text/plain": [
       "count    1143.000000\n",
       "mean        0.000163\n",
       "std         0.000108\n",
       "min         0.000000\n",
       "25%         0.000101\n",
       "50%         0.000160\n",
       "75%         0.000234\n",
       "max         0.000434\n",
       "Name: CTR, dtype: float64"
      ]
     },
     "execution_count": 23,
     "metadata": {},
     "output_type": "execute_result"
    }
   ],
   "source": [
    "campaign_data['CTR'].describe()"
   ]
  },
  {
   "cell_type": "code",
   "execution_count": 24,
   "metadata": {},
   "outputs": [
    {
     "data": {
      "text/plain": [
       "<matplotlib.axes._subplots.AxesSubplot at 0x285fa5e1ba8>"
      ]
     },
     "execution_count": 24,
     "metadata": {},
     "output_type": "execute_result"
    },
    {
     "data": {
      "image/png": "[encoded data removed]",
      "text/plain": [
       "<Figure size 432x288 with 1 Axes>"
      ]
     },
     "metadata": {
      "needs_background": "light"
     },
     "output_type": "display_data"
    }
   ],
   "source": [
    "sns.boxplot(data=campaign_data['Avg CPC'])"
   ]
  },
  {
   "cell_type": "code",
   "execution_count": 25,
   "metadata": {},
   "outputs": [
    {
     "data": {
      "text/plain": [
       "(0.6799999999999998, 2.152)"
      ]
     },
     "execution_count": 25,
     "metadata": {},
     "output_type": "execute_result"
    }
   ],
   "source": [
    "### ------- Winsorizing technique for variable Avg CPC---------------\n",
    "\n",
    "q1 = campaign_data['Avg CPC'].quantile(0.25)\n",
    "q3 = campaign_data['Avg CPC'].quantile(0.75)\n",
    "iqr = q3-q1 #Interquartile range\n",
    "low = q1-1.5*iqr #acceptable range\n",
    "high = q3+1.5*iqr  #acceptable range\n",
    "\n",
    "low, high"
   ]
  },
  {
   "cell_type": "code",
   "execution_count": 26,
   "metadata": {},
   "outputs": [
    {
     "data": {
      "text/plain": [
       "<matplotlib.axes._subplots.AxesSubplot at 0x285fa6a3dd8>"
      ]
     },
     "execution_count": 26,
     "metadata": {},
     "output_type": "execute_result"
    },
    {
     "data": {
      "image/png": "[encoded data removed]",
      "text/plain": [
       "<Figure size 432x288 with 1 Axes>"
      ]
     },
     "metadata": {
      "needs_background": "light"
     },
     "output_type": "display_data"
    }
   ],
   "source": [
    "campaign_data['Avg CPC'] = np.where(campaign_data['Avg CPC'] > high,high,campaign_data['Avg CPC'])  #upper limit\n",
    "\n",
    "campaign_data['Avg CPC'] = np.where(campaign_data['Avg CPC'] < low,low,campaign_data['Avg CPC'])  #lower limit\n",
    "\n",
    "sns.boxplot(y=campaign_data['Avg CPC'])    # for horizontal use x instead of y"
   ]
  },
  {
   "cell_type": "code",
   "execution_count": 27,
   "metadata": {},
   "outputs": [
    {
     "data": {
      "text/plain": [
       "count    1143.000000\n",
       "mean        1.352069\n",
       "std         0.375998\n",
       "min         0.680000\n",
       "25%         1.232000\n",
       "50%         1.450000\n",
       "75%         1.600000\n",
       "max         2.152000\n",
       "Name: Avg CPC, dtype: float64"
      ]
     },
     "execution_count": 27,
     "metadata": {},
     "output_type": "execute_result"
    }
   ],
   "source": [
    "campaign_data['Avg CPC'].describe()"
   ]
  },
  {
   "cell_type": "code",
   "execution_count": 28,
   "metadata": {},
   "outputs": [
    {
     "data": {
      "text/plain": [
       "<matplotlib.axes._subplots.AxesSubplot at 0x285fa709400>"
      ]
     },
     "execution_count": 28,
     "metadata": {},
     "output_type": "execute_result"
    },
    {
     "data": {
      "image/png": "[encoded data removed]",
      "text/plain": [
       "<Figure size 432x288 with 1 Axes>"
      ]
     },
     "metadata": {
      "needs_background": "light"
     },
     "output_type": "display_data"
    }
   ],
   "source": [
    "sns.boxplot(data=campaign_data['App Install'])"
   ]
  },
  {
   "cell_type": "code",
   "execution_count": 29,
   "metadata": {},
   "outputs": [
    {
     "data": {
      "text/plain": [
       "(-15.0, 25.0)"
      ]
     },
     "execution_count": 29,
     "metadata": {},
     "output_type": "execute_result"
    }
   ],
   "source": [
    "### ------- Winsorizing technique for variable App Install---------------\n",
    "\n",
    "q1 = campaign_data['App Install'].quantile(0.25)\n",
    "q3 = campaign_data['App Install'].quantile(0.75)\n",
    "iqr = q3-q1 #Interquartile range\n",
    "low = q1-1.5*iqr #acceptable range\n",
    "high = q3+1.5*iqr  #acceptable range\n",
    "\n",
    "low, high"
   ]
  },
  {
   "cell_type": "code",
   "execution_count": 30,
   "metadata": {},
   "outputs": [
    {
     "data": {
      "image/png": "[encoded data removed]",
      "text/plain": [
       "<Figure size 432x288 with 1 Axes>"
      ]
     },
     "metadata": {
      "needs_background": "light"
     },
     "output_type": "display_data"
    }
   ],
   "source": [
    "campaign_data['App Install'] = np.where(campaign_data['App Install'] > high,high,campaign_data['App Install'])  #upper limit\n",
    "\n",
    "campaign_data['App Install'] = np.where(campaign_data['App Install'] < low,low,campaign_data['App Install'])  #lower limit\n",
    "\n",
    "dx = sns.boxplot(y=campaign_data['App Install'])    # for horizontal use x instead of y"
   ]
  },
  {
   "cell_type": "code",
   "execution_count": 31,
   "metadata": {},
   "outputs": [
    {
     "data": {
      "text/plain": [
       "(-2.0, 6.0)"
      ]
     },
     "execution_count": 31,
     "metadata": {},
     "output_type": "execute_result"
    }
   ],
   "source": [
    "### ------- Winsorizing technique for variable total_conversion---------------\n",
    "\n",
    "q1 = campaign_data['total_conversion'].quantile(0.25)\n",
    "q3 = campaign_data['total_conversion'].quantile(0.75)\n",
    "iqr = q3-q1 #Interquartile range\n",
    "low = q1-1.5*iqr #acceptable range\n",
    "high = q3+1.5*iqr  #acceptable range\n",
    "\n",
    "low, high"
   ]
  },
  {
   "cell_type": "code",
   "execution_count": 32,
   "metadata": {},
   "outputs": [
    {
     "data": {
      "image/png": "[encoded data removed]",
      "text/plain": [
       "<Figure size 432x288 with 1 Axes>"
      ]
     },
     "metadata": {
      "needs_background": "light"
     },
     "output_type": "display_data"
    }
   ],
   "source": [
    "campaign_data['total_conversion'] = np.where(campaign_data['total_conversion'] > high,high,campaign_data['total_conversion'])  #upper limit\n",
    "\n",
    "campaign_data['total_conversion'] = np.where(campaign_data['total_conversion'] < low,low,campaign_data['total_conversion'])  #lower limit\n",
    "\n",
    "dx = sns.boxplot(y=campaign_data['total_conversion'])    # for horizontal use x instead of y"
   ]
  },
  {
   "cell_type": "code",
   "execution_count": 33,
   "metadata": {},
   "outputs": [
    {
     "data": {
      "text/plain": [
       "count    1143.000000\n",
       "mean        1.944882\n",
       "std         1.880289\n",
       "min         0.000000\n",
       "25%         1.000000\n",
       "50%         1.000000\n",
       "75%         3.000000\n",
       "max         6.000000\n",
       "Name: total_conversion, dtype: float64"
      ]
     },
     "execution_count": 33,
     "metadata": {},
     "output_type": "execute_result"
    }
   ],
   "source": [
    "campaign_data['total_conversion'].describe()"
   ]
  },
  {
   "cell_type": "markdown",
   "metadata": {},
   "source": [
    "### Outliers have been removed/treated. "
   ]
  },
  {
   "cell_type": "code",
   "execution_count": 34,
   "metadata": {},
   "outputs": [
    {
     "data": {
      "text/html": [
       "<div>\n",
       "<style scoped>\n",
       "    .dataframe tbody tr th:only-of-type {\n",
       "        vertical-align: middle;\n",
       "    }\n",
       "\n",
       "    .dataframe tbody tr th {\n",
       "        vertical-align: top;\n",
       "    }\n",
       "\n",
       "    .dataframe thead th {\n",
       "        text-align: right;\n",
       "    }\n",
       "</style>\n",
       "<table border=\"1\" class=\"dataframe\">\n",
       "  <thead>\n",
       "    <tr style=\"text-align: right;\">\n",
       "      <th></th>\n",
       "      <th>impressions</th>\n",
       "      <th>clicks</th>\n",
       "      <th>spent</th>\n",
       "      <th>CTR</th>\n",
       "      <th>Avg CPC</th>\n",
       "      <th>App Install</th>\n",
       "      <th>total_conversion</th>\n",
       "    </tr>\n",
       "  </thead>\n",
       "  <tbody>\n",
       "    <tr>\n",
       "      <th>count</th>\n",
       "      <td>1143.000000</td>\n",
       "      <td>1143.000000</td>\n",
       "      <td>1143.000000</td>\n",
       "      <td>1143.000000</td>\n",
       "      <td>1143.000000</td>\n",
       "      <td>1143.000000</td>\n",
       "      <td>1143.000000</td>\n",
       "    </tr>\n",
       "    <tr>\n",
       "      <th>mean</th>\n",
       "      <td>144418.444226</td>\n",
       "      <td>24.664698</td>\n",
       "      <td>38.889503</td>\n",
       "      <td>0.000163</td>\n",
       "      <td>1.352069</td>\n",
       "      <td>5.314961</td>\n",
       "      <td>1.944882</td>\n",
       "    </tr>\n",
       "    <tr>\n",
       "      <th>std</th>\n",
       "      <td>184174.591624</td>\n",
       "      <td>31.630431</td>\n",
       "      <td>50.502589</td>\n",
       "      <td>0.000108</td>\n",
       "      <td>0.375998</td>\n",
       "      <td>7.873597</td>\n",
       "      <td>1.880289</td>\n",
       "    </tr>\n",
       "    <tr>\n",
       "      <th>min</th>\n",
       "      <td>87.000000</td>\n",
       "      <td>0.000000</td>\n",
       "      <td>0.000000</td>\n",
       "      <td>0.000000</td>\n",
       "      <td>0.680000</td>\n",
       "      <td>0.000000</td>\n",
       "      <td>0.000000</td>\n",
       "    </tr>\n",
       "    <tr>\n",
       "      <th>25%</th>\n",
       "      <td>6503.500000</td>\n",
       "      <td>1.000000</td>\n",
       "      <td>1.480000</td>\n",
       "      <td>0.000101</td>\n",
       "      <td>1.232000</td>\n",
       "      <td>0.000000</td>\n",
       "      <td>1.000000</td>\n",
       "    </tr>\n",
       "    <tr>\n",
       "      <th>50%</th>\n",
       "      <td>51509.000000</td>\n",
       "      <td>8.000000</td>\n",
       "      <td>12.370000</td>\n",
       "      <td>0.000160</td>\n",
       "      <td>1.450000</td>\n",
       "      <td>0.000000</td>\n",
       "      <td>1.000000</td>\n",
       "    </tr>\n",
       "    <tr>\n",
       "      <th>75%</th>\n",
       "      <td>221769.000000</td>\n",
       "      <td>37.500000</td>\n",
       "      <td>60.025000</td>\n",
       "      <td>0.000234</td>\n",
       "      <td>1.600000</td>\n",
       "      <td>10.000000</td>\n",
       "      <td>3.000000</td>\n",
       "    </tr>\n",
       "    <tr>\n",
       "      <th>max</th>\n",
       "      <td>544667.250000</td>\n",
       "      <td>92.250000</td>\n",
       "      <td>147.842500</td>\n",
       "      <td>0.000434</td>\n",
       "      <td>2.152000</td>\n",
       "      <td>25.000000</td>\n",
       "      <td>6.000000</td>\n",
       "    </tr>\n",
       "  </tbody>\n",
       "</table>\n",
       "</div>"
      ],
      "text/plain": [
       "         impressions       clicks        spent          CTR      Avg CPC  \\\n",
       "count    1143.000000  1143.000000  1143.000000  1143.000000  1143.000000   \n",
       "mean   144418.444226    24.664698    38.889503     0.000163     1.352069   \n",
       "std    184174.591624    31.630431    50.502589     0.000108     0.375998   \n",
       "min        87.000000     0.000000     0.000000     0.000000     0.680000   \n",
       "25%      6503.500000     1.000000     1.480000     0.000101     1.232000   \n",
       "50%     51509.000000     8.000000    12.370000     0.000160     1.450000   \n",
       "75%    221769.000000    37.500000    60.025000     0.000234     1.600000   \n",
       "max    544667.250000    92.250000   147.842500     0.000434     2.152000   \n",
       "\n",
       "       App Install  total_conversion  \n",
       "count  1143.000000       1143.000000  \n",
       "mean      5.314961          1.944882  \n",
       "std       7.873597          1.880289  \n",
       "min       0.000000          0.000000  \n",
       "25%       0.000000          1.000000  \n",
       "50%       0.000000          1.000000  \n",
       "75%      10.000000          3.000000  \n",
       "max      25.000000          6.000000  "
      ]
     },
     "execution_count": 34,
     "metadata": {},
     "output_type": "execute_result"
    }
   ],
   "source": [
    "campaign_data.describe()"
   ]
  },
  {
   "cell_type": "code",
   "execution_count": 35,
   "metadata": {},
   "outputs": [
    {
     "name": "stderr",
     "output_type": "stream",
     "text": [
      "C:\\Users\\RONALD\\Anaconda3\\lib\\site-packages\\seaborn\\axisgrid.py:2065: UserWarning: The `size` parameter has been renamed to `height`; pleaes update your code.\n",
      "  warnings.warn(msg, UserWarning)\n"
     ]
    },
    {
     "data": {
      "text/plain": [
       "<seaborn.axisgrid.PairGrid at 0x285fa82c668>"
      ]
     },
     "execution_count": 35,
     "metadata": {},
     "output_type": "execute_result"
    },
    {
     "data": {
      "image/png": "[encoded data removed]",
      "text/plain": [
       "<Figure size 907.2x216 with 6 Axes>"
      ]
     },
     "metadata": {
      "needs_background": "light"
     },
     "output_type": "display_data"
    }
   ],
   "source": [
    "#sns.pairplot(campaign_data, x_vars=['impressions','clicks','spent', 'CTR', 'Avg CPC', 'App Install', 'total_conversion'], y_vars='approved_conversion', size=3, aspect=0.7, kind='scatter')\n",
    "\n",
    "sns.pairplot(campaign_data, x_vars=['impressions','clicks','spent', 'CTR', 'Avg CPC', 'App Install'], y_vars='total_conversion', size=3, aspect=0.7, kind='scatter')"
   ]
  },
  {
   "cell_type": "markdown",
   "metadata": {},
   "source": [
    "## B. Bivariate Analysis"
   ]
  },
  {
   "cell_type": "code",
   "execution_count": 36,
   "metadata": {},
   "outputs": [],
   "source": [
    "# ------------ Step 4. Data Partition -------------\n",
    "\n",
    "X = campaign_data.drop('total_conversion', axis=1)\n",
    "Y = campaign_data[['total_conversion']]\n",
    "\n",
    "X_train, X_test, y_train, y_test = train_test_split(X, Y, test_size=0.30, random_state=1)\n"
   ]
  },
  {
   "cell_type": "code",
   "execution_count": 37,
   "metadata": {},
   "outputs": [],
   "source": [
    "# X_train.columns: 'impressions', 'clicks', 'spent', 'CTR', 'Avg CPC', 'App Install'\n",
    "# X_test.columns: 'impressions', 'clicks', 'spent', 'CTR', 'Avg CPC', 'App Install'\n",
    "# y_train.columns: 'total_conversion'\n",
    "# y_test.columns : 'total_conversion'"
   ]
  },
  {
   "cell_type": "markdown",
   "metadata": {},
   "source": [
    "## Data Partition"
   ]
  },
  {
   "cell_type": "markdown",
   "metadata": {},
   "source": [
    "### Correlation Matrix"
   ]
  },
  {
   "cell_type": "code",
   "execution_count": 38,
   "metadata": {},
   "outputs": [],
   "source": [
    "# --------------- Correlation Matrix ----------------\n",
    "\n",
    "campaign_data_new = pd.concat([y_train, X_train], axis=1)"
   ]
  },
  {
   "cell_type": "code",
   "execution_count": 47,
   "metadata": {},
   "outputs": [],
   "source": [
    "# campaign_data_new.columns =['total_conversion', 'impressions', 'clicks', 'spent', 'CTR', 'Avg CPC','App Install']"
   ]
  },
  {
   "cell_type": "code",
   "execution_count": 39,
   "metadata": {},
   "outputs": [
    {
     "data": {
      "text/html": [
       "<div>\n",
       "<style scoped>\n",
       "    .dataframe tbody tr th:only-of-type {\n",
       "        vertical-align: middle;\n",
       "    }\n",
       "\n",
       "    .dataframe tbody tr th {\n",
       "        vertical-align: top;\n",
       "    }\n",
       "\n",
       "    .dataframe thead th {\n",
       "        text-align: right;\n",
       "    }\n",
       "</style>\n",
       "<table border=\"1\" class=\"dataframe\">\n",
       "  <thead>\n",
       "    <tr style=\"text-align: right;\">\n",
       "      <th></th>\n",
       "      <th>total_conversion</th>\n",
       "      <th>impressions</th>\n",
       "      <th>clicks</th>\n",
       "      <th>spent</th>\n",
       "      <th>CTR</th>\n",
       "      <th>Avg CPC</th>\n",
       "      <th>App Install</th>\n",
       "    </tr>\n",
       "  </thead>\n",
       "  <tbody>\n",
       "    <tr>\n",
       "      <th>total_conversion</th>\n",
       "      <td>1.000000</td>\n",
       "      <td>0.811053</td>\n",
       "      <td>0.758333</td>\n",
       "      <td>0.766659</td>\n",
       "      <td>0.194294</td>\n",
       "      <td>0.511898</td>\n",
       "      <td>0.686829</td>\n",
       "    </tr>\n",
       "    <tr>\n",
       "      <th>impressions</th>\n",
       "      <td>0.811053</td>\n",
       "      <td>1.000000</td>\n",
       "      <td>0.972800</td>\n",
       "      <td>0.980066</td>\n",
       "      <td>0.131109</td>\n",
       "      <td>0.422616</td>\n",
       "      <td>0.840684</td>\n",
       "    </tr>\n",
       "    <tr>\n",
       "      <th>clicks</th>\n",
       "      <td>0.758333</td>\n",
       "      <td>0.972800</td>\n",
       "      <td>1.000000</td>\n",
       "      <td>0.996579</td>\n",
       "      <td>0.218670</td>\n",
       "      <td>0.390802</td>\n",
       "      <td>0.853652</td>\n",
       "    </tr>\n",
       "    <tr>\n",
       "      <th>spent</th>\n",
       "      <td>0.766659</td>\n",
       "      <td>0.980066</td>\n",
       "      <td>0.996579</td>\n",
       "      <td>1.000000</td>\n",
       "      <td>0.201960</td>\n",
       "      <td>0.407426</td>\n",
       "      <td>0.854006</td>\n",
       "    </tr>\n",
       "    <tr>\n",
       "      <th>CTR</th>\n",
       "      <td>0.194294</td>\n",
       "      <td>0.131109</td>\n",
       "      <td>0.218670</td>\n",
       "      <td>0.201960</td>\n",
       "      <td>1.000000</td>\n",
       "      <td>0.423096</td>\n",
       "      <td>0.191904</td>\n",
       "    </tr>\n",
       "    <tr>\n",
       "      <th>Avg CPC</th>\n",
       "      <td>0.511898</td>\n",
       "      <td>0.422616</td>\n",
       "      <td>0.390802</td>\n",
       "      <td>0.407426</td>\n",
       "      <td>0.423096</td>\n",
       "      <td>1.000000</td>\n",
       "      <td>0.350036</td>\n",
       "    </tr>\n",
       "    <tr>\n",
       "      <th>App Install</th>\n",
       "      <td>0.686829</td>\n",
       "      <td>0.840684</td>\n",
       "      <td>0.853652</td>\n",
       "      <td>0.854006</td>\n",
       "      <td>0.191904</td>\n",
       "      <td>0.350036</td>\n",
       "      <td>1.000000</td>\n",
       "    </tr>\n",
       "  </tbody>\n",
       "</table>\n",
       "</div>"
      ],
      "text/plain": [
       "                  total_conversion  impressions    clicks     spent       CTR  \\\n",
       "total_conversion          1.000000     0.811053  0.758333  0.766659  0.194294   \n",
       "impressions               0.811053     1.000000  0.972800  0.980066  0.131109   \n",
       "clicks                    0.758333     0.972800  1.000000  0.996579  0.218670   \n",
       "spent                     0.766659     0.980066  0.996579  1.000000  0.201960   \n",
       "CTR                       0.194294     0.131109  0.218670  0.201960  1.000000   \n",
       "Avg CPC                   0.511898     0.422616  0.390802  0.407426  0.423096   \n",
       "App Install               0.686829     0.840684  0.853652  0.854006  0.191904   \n",
       "\n",
       "                   Avg CPC  App Install  \n",
       "total_conversion  0.511898     0.686829  \n",
       "impressions       0.422616     0.840684  \n",
       "clicks            0.390802     0.853652  \n",
       "spent             0.407426     0.854006  \n",
       "CTR               0.423096     0.191904  \n",
       "Avg CPC           1.000000     0.350036  \n",
       "App Install       0.350036     1.000000  "
      ]
     },
     "metadata": {},
     "output_type": "display_data"
    }
   ],
   "source": [
    "corr = campaign_data_new.corr()\n",
    "display(corr)"
   ]
  },
  {
   "cell_type": "code",
   "execution_count": 40,
   "metadata": {},
   "outputs": [
    {
     "data": {
      "text/plain": [
       "<matplotlib.axes._subplots.AxesSubplot at 0x285faa41a90>"
      ]
     },
     "execution_count": 40,
     "metadata": {},
     "output_type": "execute_result"
    },
    {
     "data": {
      "image/png": "[encoded data removed]",
      "text/plain": [
       "<Figure size 432x288 with 2 Axes>"
      ]
     },
     "metadata": {
      "needs_background": "light"
     },
     "output_type": "display_data"
    }
   ],
   "source": [
    "sns.heatmap(corr,annot = True)"
   ]
  },
  {
   "cell_type": "code",
   "execution_count": 41,
   "metadata": {},
   "outputs": [
    {
     "data": {
      "text/html": [
       "<div>\n",
       "<style scoped>\n",
       "    .dataframe tbody tr th:only-of-type {\n",
       "        vertical-align: middle;\n",
       "    }\n",
       "\n",
       "    .dataframe tbody tr th {\n",
       "        vertical-align: top;\n",
       "    }\n",
       "\n",
       "    .dataframe thead th {\n",
       "        text-align: right;\n",
       "    }\n",
       "</style>\n",
       "<table border=\"1\" class=\"dataframe\">\n",
       "  <thead>\n",
       "    <tr style=\"text-align: right;\">\n",
       "      <th></th>\n",
       "      <th>impressions</th>\n",
       "      <th>clicks</th>\n",
       "      <th>spent</th>\n",
       "      <th>CTR</th>\n",
       "      <th>Avg CPC</th>\n",
       "      <th>App Install</th>\n",
       "    </tr>\n",
       "  </thead>\n",
       "  <tbody>\n",
       "    <tr>\n",
       "      <th>578</th>\n",
       "      <td>297452.00</td>\n",
       "      <td>30.00</td>\n",
       "      <td>52.0200</td>\n",
       "      <td>0.000101</td>\n",
       "      <td>1.734</td>\n",
       "      <td>10.0</td>\n",
       "    </tr>\n",
       "    <tr>\n",
       "      <th>844</th>\n",
       "      <td>544667.25</td>\n",
       "      <td>92.25</td>\n",
       "      <td>147.8425</td>\n",
       "      <td>0.000194</td>\n",
       "      <td>1.501</td>\n",
       "      <td>21.0</td>\n",
       "    </tr>\n",
       "    <tr>\n",
       "      <th>50</th>\n",
       "      <td>11199.00</td>\n",
       "      <td>4.00</td>\n",
       "      <td>5.7300</td>\n",
       "      <td>0.000357</td>\n",
       "      <td>1.433</td>\n",
       "      <td>0.0</td>\n",
       "    </tr>\n",
       "    <tr>\n",
       "      <th>795</th>\n",
       "      <td>179950.00</td>\n",
       "      <td>35.00</td>\n",
       "      <td>58.6800</td>\n",
       "      <td>0.000194</td>\n",
       "      <td>1.677</td>\n",
       "      <td>0.0</td>\n",
       "    </tr>\n",
       "    <tr>\n",
       "      <th>653</th>\n",
       "      <td>220581.00</td>\n",
       "      <td>31.00</td>\n",
       "      <td>57.3700</td>\n",
       "      <td>0.000141</td>\n",
       "      <td>1.851</td>\n",
       "      <td>5.0</td>\n",
       "    </tr>\n",
       "  </tbody>\n",
       "</table>\n",
       "</div>"
      ],
      "text/plain": [
       "     impressions  clicks     spent       CTR  Avg CPC  App Install\n",
       "578    297452.00   30.00   52.0200  0.000101    1.734         10.0\n",
       "844    544667.25   92.25  147.8425  0.000194    1.501         21.0\n",
       "50      11199.00    4.00    5.7300  0.000357    1.433          0.0\n",
       "795    179950.00   35.00   58.6800  0.000194    1.677          0.0\n",
       "653    220581.00   31.00   57.3700  0.000141    1.851          5.0"
      ]
     },
     "execution_count": 41,
     "metadata": {},
     "output_type": "execute_result"
    }
   ],
   "source": [
    "X_train.head()"
   ]
  },
  {
   "cell_type": "markdown",
   "metadata": {},
   "source": [
    "## 5. Model Building"
   ]
  },
  {
   "cell_type": "markdown",
   "metadata": {},
   "source": [
    "### Backward Elimination Method"
   ]
  },
  {
   "cell_type": "code",
   "execution_count": 42,
   "metadata": {},
   "outputs": [],
   "source": [
    "x = campaign_data.drop('total_conversion', axis=1) # All X variables\n",
    "y = campaign_data['total_conversion']  # Y variable only"
   ]
  },
  {
   "cell_type": "code",
   "execution_count": 43,
   "metadata": {},
   "outputs": [
    {
     "name": "stdout",
     "output_type": "stream",
     "text": [
      "['impressions', 'clicks', 'spent', 'CTR', 'Avg CPC', 'App Install']\n"
     ]
    },
    {
     "name": "stderr",
     "output_type": "stream",
     "text": [
      "C:\\Users\\RONALD\\Anaconda3\\lib\\site-packages\\numpy\\core\\fromnumeric.py:2389: FutureWarning: Method .ptp is deprecated and will be removed in a future version. Use numpy.ptp instead.\n",
      "  return ptp(axis=axis, out=out, **kwargs)\n"
     ]
    }
   ],
   "source": [
    "\n",
    "# Backward Elimination\n",
    "cols = list(x.columns) # all column present in x\n",
    "pmax = 1\n",
    "while (len(cols)>0):  # count of variable should be greater than zero\n",
    "    p= []\n",
    "    X_1 = x[cols] # all column we assign in x_1\n",
    "    X_1 = sm.add_constant(X_1)  # adding a column with value 1 - adding constant column in X_1 \n",
    "    final_model = sm.OLS(y, X_1).fit()  # Regression Model\n",
    "    p = pd.Series(final_model.pvalues.values[1:],index = cols)\n",
    "    # to get p-values for all variable only\n",
    "    pmax = max(p)  # select a max P-value\n",
    "    feature_with_p_max = p.idxmax()\n",
    "    #idmax is used to display the variable name which has max P-value\n",
    "    if (pmax>0.05):\n",
    "        cols.remove(feature_with_p_max)\n",
    "    else:\n",
    "        break\n",
    "selected_features_BE = cols\n",
    "print(selected_features_BE)\n",
    "\n",
    "#print()"
   ]
  },
  {
   "cell_type": "code",
   "execution_count": 44,
   "metadata": {},
   "outputs": [
    {
     "data": {
      "text/html": [
       "<table class=\"simpletable\">\n",
       "<caption>OLS Regression Results</caption>\n",
       "<tr>\n",
       "  <th>Dep. Variable:</th>    <td>total_conversion</td> <th>  R-squared:         </th> <td>   0.725</td> \n",
       "</tr>\n",
       "<tr>\n",
       "  <th>Model:</th>                   <td>OLS</td>       <th>  Adj. R-squared:    </th> <td>   0.723</td> \n",
       "</tr>\n",
       "<tr>\n",
       "  <th>Method:</th>             <td>Least Squares</td>  <th>  F-statistic:       </th> <td>   498.1</td> \n",
       "</tr>\n",
       "<tr>\n",
       "  <th>Date:</th>             <td>Sun, 01 Dec 2019</td> <th>  Prob (F-statistic):</th> <td>6.85e-314</td>\n",
       "</tr>\n",
       "<tr>\n",
       "  <th>Time:</th>                 <td>01:09:40</td>     <th>  Log-Likelihood:    </th> <td> -1606.1</td> \n",
       "</tr>\n",
       "<tr>\n",
       "  <th>No. Observations:</th>      <td>  1143</td>      <th>  AIC:               </th> <td>   3226.</td> \n",
       "</tr>\n",
       "<tr>\n",
       "  <th>Df Residuals:</th>          <td>  1136</td>      <th>  BIC:               </th> <td>   3262.</td> \n",
       "</tr>\n",
       "<tr>\n",
       "  <th>Df Model:</th>              <td>     6</td>      <th>                     </th>     <td> </td>    \n",
       "</tr>\n",
       "<tr>\n",
       "  <th>Covariance Type:</th>      <td>nonrobust</td>    <th>                     </th>     <td> </td>    \n",
       "</tr>\n",
       "</table>\n",
       "<table class=\"simpletable\">\n",
       "<tr>\n",
       "       <td></td>          <th>coef</th>     <th>std err</th>      <th>t</th>      <th>P>|t|</th>  <th>[0.025</th>    <th>0.975]</th>  \n",
       "</tr>\n",
       "<tr>\n",
       "  <th>const</th>       <td>   -0.4026</td> <td>    0.116</td> <td>   -3.471</td> <td> 0.001</td> <td>   -0.630</td> <td>   -0.175</td>\n",
       "</tr>\n",
       "<tr>\n",
       "  <th>impressions</th> <td> 1.562e-05</td> <td> 9.14e-07</td> <td>   17.092</td> <td> 0.000</td> <td> 1.38e-05</td> <td> 1.74e-05</td>\n",
       "</tr>\n",
       "<tr>\n",
       "  <th>clicks</th>      <td>    0.0278</td> <td>    0.012</td> <td>    2.268</td> <td> 0.023</td> <td>    0.004</td> <td>    0.052</td>\n",
       "</tr>\n",
       "<tr>\n",
       "  <th>spent</th>       <td>   -0.0495</td> <td>    0.009</td> <td>   -5.791</td> <td> 0.000</td> <td>   -0.066</td> <td>   -0.033</td>\n",
       "</tr>\n",
       "<tr>\n",
       "  <th>CTR</th>         <td> 1676.5449</td> <td>  347.192</td> <td>    4.829</td> <td> 0.000</td> <td>  995.336</td> <td> 2357.754</td>\n",
       "</tr>\n",
       "<tr>\n",
       "  <th>Avg CPC</th>     <td>    0.7099</td> <td>    0.103</td> <td>    6.905</td> <td> 0.000</td> <td>    0.508</td> <td>    0.912</td>\n",
       "</tr>\n",
       "<tr>\n",
       "  <th>App Install</th> <td>    0.0185</td> <td>    0.007</td> <td>    2.573</td> <td> 0.010</td> <td>    0.004</td> <td>    0.033</td>\n",
       "</tr>\n",
       "</table>\n",
       "<table class=\"simpletable\">\n",
       "<tr>\n",
       "  <th>Omnibus:</th>       <td>107.032</td> <th>  Durbin-Watson:     </th> <td>   1.893</td> \n",
       "</tr>\n",
       "<tr>\n",
       "  <th>Prob(Omnibus):</th> <td> 0.000</td>  <th>  Jarque-Bera (JB):  </th> <td> 474.537</td> \n",
       "</tr>\n",
       "<tr>\n",
       "  <th>Skew:</th>          <td> 0.321</td>  <th>  Prob(JB):          </th> <td>9.03e-104</td>\n",
       "</tr>\n",
       "<tr>\n",
       "  <th>Kurtosis:</th>      <td> 6.091</td>  <th>  Cond. No.          </th> <td>2.78e+09</td> \n",
       "</tr>\n",
       "</table><br/><br/>Warnings:<br/>[1] Standard Errors assume that the covariance matrix of the errors is correctly specified.<br/>[2] The condition number is large, 2.78e+09. This might indicate that there are<br/>strong multicollinearity or other numerical problems."
      ],
      "text/plain": [
       "<class 'statsmodels.iolib.summary.Summary'>\n",
       "\"\"\"\n",
       "                            OLS Regression Results                            \n",
       "==============================================================================\n",
       "Dep. Variable:       total_conversion   R-squared:                       0.725\n",
       "Model:                            OLS   Adj. R-squared:                  0.723\n",
       "Method:                 Least Squares   F-statistic:                     498.1\n",
       "Date:                Sun, 01 Dec 2019   Prob (F-statistic):          6.85e-314\n",
       "Time:                        01:09:40   Log-Likelihood:                -1606.1\n",
       "No. Observations:                1143   AIC:                             3226.\n",
       "Df Residuals:                    1136   BIC:                             3262.\n",
       "Df Model:                           6                                         \n",
       "Covariance Type:            nonrobust                                         \n",
       "===============================================================================\n",
       "                  coef    std err          t      P>|t|      [0.025      0.975]\n",
       "-------------------------------------------------------------------------------\n",
       "const          -0.4026      0.116     -3.471      0.001      -0.630      -0.175\n",
       "impressions  1.562e-05   9.14e-07     17.092      0.000    1.38e-05    1.74e-05\n",
       "clicks          0.0278      0.012      2.268      0.023       0.004       0.052\n",
       "spent          -0.0495      0.009     -5.791      0.000      -0.066      -0.033\n",
       "CTR          1676.5449    347.192      4.829      0.000     995.336    2357.754\n",
       "Avg CPC         0.7099      0.103      6.905      0.000       0.508       0.912\n",
       "App Install     0.0185      0.007      2.573      0.010       0.004       0.033\n",
       "==============================================================================\n",
       "Omnibus:                      107.032   Durbin-Watson:                   1.893\n",
       "Prob(Omnibus):                  0.000   Jarque-Bera (JB):              474.537\n",
       "Skew:                           0.321   Prob(JB):                    9.03e-104\n",
       "Kurtosis:                       6.091   Cond. No.                     2.78e+09\n",
       "==============================================================================\n",
       "\n",
       "Warnings:\n",
       "[1] Standard Errors assume that the covariance matrix of the errors is correctly specified.\n",
       "[2] The condition number is large, 2.78e+09. This might indicate that there are\n",
       "strong multicollinearity or other numerical problems.\n",
       "\"\"\""
      ]
     },
     "execution_count": 44,
     "metadata": {},
     "output_type": "execute_result"
    }
   ],
   "source": [
    "final_model.summary()"
   ]
  },
  {
   "cell_type": "markdown",
   "metadata": {},
   "source": [
    "##### Variable Selected: ['impressions', 'clicks', 'spent', 'CTR', 'Avg CPC', 'App Install']"
   ]
  },
  {
   "cell_type": "markdown",
   "metadata": {},
   "source": [
    "### 6. Assumptions of Model"
   ]
  },
  {
   "cell_type": "code",
   "execution_count": 45,
   "metadata": {},
   "outputs": [],
   "source": [
    "# ------- 1. Homoscedasticity ---------\n",
    "\n",
    "Data=pd.concat([X_train,y_train], axis=1)"
   ]
  },
  {
   "cell_type": "code",
   "execution_count": 46,
   "metadata": {},
   "outputs": [],
   "source": [
    "Data['Fitted_value'] = final_model.fittedvalues\n",
    "Data['Residual'] = final_model.resid"
   ]
  },
  {
   "cell_type": "code",
   "execution_count": 47,
   "metadata": {},
   "outputs": [
    {
     "data": {
      "image/png": "[encoded data removed]",
      "text/plain": [
       "<Figure size 432x288 with 1 Axes>"
      ]
     },
     "metadata": {
      "needs_background": "light"
     },
     "output_type": "display_data"
    }
   ],
   "source": [
    "p = Data.plot.scatter(x='Fitted_value', y='Residual')\n",
    "plt.xlabel('Fitted values')\n",
    "plt.ylabel('Residuals')\n",
    "p = plt.title('Residuals vs fitted values plot for homoscedasicity check')\n",
    "plt.show()"
   ]
  },
  {
   "cell_type": "markdown",
   "metadata": {},
   "source": [
    "#### The null hypothesis for Breusch-Pagan test is that:\n",
    "\n",
    "####  * H0 = (Sigma2)i = Sigma2 (variances for the errors are equal)\n",
    "\n",
    "#### The Alternate hypothesis (the one you are testing), is that:\n",
    "\n",
    "####  * H1 = (Sigma2)i != Sigma2 (variance are not equal)"
   ]
  },
  {
   "cell_type": "code",
   "execution_count": 48,
   "metadata": {},
   "outputs": [
    {
     "name": "stdout",
     "output_type": "stream",
     "text": [
      "1.958623731294981e-25 5.692510934875711e-27\n"
     ]
    }
   ],
   "source": [
    "# Run the Breusch - Pagan test\n",
    "from statsmodels.stats import diagnostic as diag \n",
    "_, pval2, __, f_pval2 = diag.het_breuschpagan(final_model.resid, final_model.model.exog)\n",
    "\n",
    "print(pval2, f_pval2)"
   ]
  },
  {
   "cell_type": "code",
   "execution_count": 49,
   "metadata": {},
   "outputs": [
    {
     "data": {
      "image/png": "[encoded data removed]",
      "text/plain": [
       "<Figure size 432x288 with 1 Axes>"
      ]
     },
     "metadata": {
      "needs_background": "light"
     },
     "output_type": "display_data"
    }
   ],
   "source": [
    "# --------- Normality ------------\n",
    "import pylab\n",
    "#check for the normality of the residuals\n",
    "#sm.qqplot(model3.resid, line='s')\n",
    "sm.qqplot(final_model.resid, line='s')\n",
    "\n",
    "# s indicate standardized line\n",
    "pylab.show()"
   ]
  },
  {
   "cell_type": "code",
   "execution_count": 50,
   "metadata": {},
   "outputs": [
    {
     "data": {
      "text/plain": [
       "<matplotlib.axes._subplots.AxesSubplot at 0x285fb619358>"
      ]
     },
     "execution_count": 50,
     "metadata": {},
     "output_type": "execute_result"
    },
    {
     "data": {
      "image/png": "[encoded data removed]",
      "text/plain": [
       "<Figure size 432x288 with 1 Axes>"
      ]
     },
     "metadata": {
      "needs_background": "light"
     },
     "output_type": "display_data"
    }
   ],
   "source": [
    "# ----------- Model Error ----------\n",
    "\n",
    "Data['Residual'].plot.hist()"
   ]
  },
  {
   "cell_type": "markdown",
   "metadata": {},
   "source": [
    "## Prediction on Test Data"
   ]
  },
  {
   "cell_type": "code",
   "execution_count": 51,
   "metadata": {},
   "outputs": [],
   "source": [
    "X_test2 = X_test[['impressions', 'clicks', 'spent','CTR', 'Avg CPC', 'App Install']]\n",
    "X_test2 = sm.add_constant(X_test2)"
   ]
  },
  {
   "cell_type": "code",
   "execution_count": 52,
   "metadata": {},
   "outputs": [
    {
     "data": {
      "text/html": [
       "<div>\n",
       "<style scoped>\n",
       "    .dataframe tbody tr th:only-of-type {\n",
       "        vertical-align: middle;\n",
       "    }\n",
       "\n",
       "    .dataframe tbody tr th {\n",
       "        vertical-align: top;\n",
       "    }\n",
       "\n",
       "    .dataframe thead th {\n",
       "        text-align: right;\n",
       "    }\n",
       "</style>\n",
       "<table border=\"1\" class=\"dataframe\">\n",
       "  <thead>\n",
       "    <tr style=\"text-align: right;\">\n",
       "      <th></th>\n",
       "      <th>const</th>\n",
       "      <th>impressions</th>\n",
       "      <th>clicks</th>\n",
       "      <th>spent</th>\n",
       "      <th>CTR</th>\n",
       "      <th>Avg CPC</th>\n",
       "      <th>App Install</th>\n",
       "    </tr>\n",
       "  </thead>\n",
       "  <tbody>\n",
       "    <tr>\n",
       "      <th>314</th>\n",
       "      <td>1.0</td>\n",
       "      <td>2214.00</td>\n",
       "      <td>0.00</td>\n",
       "      <td>0.000000</td>\n",
       "      <td>0.000000</td>\n",
       "      <td>0.680</td>\n",
       "      <td>0.0</td>\n",
       "    </tr>\n",
       "    <tr>\n",
       "      <th>698</th>\n",
       "      <td>1.0</td>\n",
       "      <td>38580.00</td>\n",
       "      <td>5.00</td>\n",
       "      <td>8.520000</td>\n",
       "      <td>0.000130</td>\n",
       "      <td>1.704</td>\n",
       "      <td>0.0</td>\n",
       "    </tr>\n",
       "    <tr>\n",
       "      <th>846</th>\n",
       "      <td>1.0</td>\n",
       "      <td>103709.00</td>\n",
       "      <td>15.00</td>\n",
       "      <td>24.570000</td>\n",
       "      <td>0.000145</td>\n",
       "      <td>1.638</td>\n",
       "      <td>10.0</td>\n",
       "    </tr>\n",
       "    <tr>\n",
       "      <th>1136</th>\n",
       "      <td>1.0</td>\n",
       "      <td>544667.25</td>\n",
       "      <td>92.25</td>\n",
       "      <td>147.842500</td>\n",
       "      <td>0.000182</td>\n",
       "      <td>1.454</td>\n",
       "      <td>13.0</td>\n",
       "    </tr>\n",
       "    <tr>\n",
       "      <th>1097</th>\n",
       "      <td>1.0</td>\n",
       "      <td>544667.25</td>\n",
       "      <td>86.00</td>\n",
       "      <td>119.640002</td>\n",
       "      <td>0.000110</td>\n",
       "      <td>1.391</td>\n",
       "      <td>12.0</td>\n",
       "    </tr>\n",
       "  </tbody>\n",
       "</table>\n",
       "</div>"
      ],
      "text/plain": [
       "      const  impressions  clicks       spent       CTR  Avg CPC  App Install\n",
       "314     1.0      2214.00    0.00    0.000000  0.000000    0.680          0.0\n",
       "698     1.0     38580.00    5.00    8.520000  0.000130    1.704          0.0\n",
       "846     1.0    103709.00   15.00   24.570000  0.000145    1.638         10.0\n",
       "1136    1.0    544667.25   92.25  147.842500  0.000182    1.454         13.0\n",
       "1097    1.0    544667.25   86.00  119.640002  0.000110    1.391         12.0"
      ]
     },
     "execution_count": 52,
     "metadata": {},
     "output_type": "execute_result"
    }
   ],
   "source": [
    "X_test2.head()"
   ]
  },
  {
   "cell_type": "code",
   "execution_count": 53,
   "metadata": {},
   "outputs": [],
   "source": [
    "#y_predict=model3.predict(X_test2)\n",
    "\n",
    "y_predict=final_model.predict(X_test2)"
   ]
  },
  {
   "cell_type": "code",
   "execution_count": 54,
   "metadata": {},
   "outputs": [],
   "source": [
    "test=pd.concat([X_test, y_test], axis=1)"
   ]
  },
  {
   "cell_type": "code",
   "execution_count": 55,
   "metadata": {},
   "outputs": [],
   "source": [
    "test['Predicted']=y_predict"
   ]
  },
  {
   "cell_type": "code",
   "execution_count": 56,
   "metadata": {},
   "outputs": [
    {
     "data": {
      "text/html": [
       "<div>\n",
       "<style scoped>\n",
       "    .dataframe tbody tr th:only-of-type {\n",
       "        vertical-align: middle;\n",
       "    }\n",
       "\n",
       "    .dataframe tbody tr th {\n",
       "        vertical-align: top;\n",
       "    }\n",
       "\n",
       "    .dataframe thead th {\n",
       "        text-align: right;\n",
       "    }\n",
       "</style>\n",
       "<table border=\"1\" class=\"dataframe\">\n",
       "  <thead>\n",
       "    <tr style=\"text-align: right;\">\n",
       "      <th></th>\n",
       "      <th>impressions</th>\n",
       "      <th>clicks</th>\n",
       "      <th>spent</th>\n",
       "      <th>CTR</th>\n",
       "      <th>Avg CPC</th>\n",
       "      <th>App Install</th>\n",
       "      <th>total_conversion</th>\n",
       "      <th>Predicted</th>\n",
       "    </tr>\n",
       "  </thead>\n",
       "  <tbody>\n",
       "    <tr>\n",
       "      <th>314</th>\n",
       "      <td>2214.00</td>\n",
       "      <td>0.00</td>\n",
       "      <td>0.000000</td>\n",
       "      <td>0.000000</td>\n",
       "      <td>0.680</td>\n",
       "      <td>0.0</td>\n",
       "      <td>0.0</td>\n",
       "      <td>0.114682</td>\n",
       "    </tr>\n",
       "    <tr>\n",
       "      <th>698</th>\n",
       "      <td>38580.00</td>\n",
       "      <td>5.00</td>\n",
       "      <td>8.520000</td>\n",
       "      <td>0.000130</td>\n",
       "      <td>1.704</td>\n",
       "      <td>0.0</td>\n",
       "      <td>1.0</td>\n",
       "      <td>1.344904</td>\n",
       "    </tr>\n",
       "    <tr>\n",
       "      <th>846</th>\n",
       "      <td>103709.00</td>\n",
       "      <td>15.00</td>\n",
       "      <td>24.570000</td>\n",
       "      <td>0.000145</td>\n",
       "      <td>1.638</td>\n",
       "      <td>10.0</td>\n",
       "      <td>3.0</td>\n",
       "      <td>2.009553</td>\n",
       "    </tr>\n",
       "    <tr>\n",
       "      <th>1136</th>\n",
       "      <td>544667.25</td>\n",
       "      <td>92.25</td>\n",
       "      <td>147.842500</td>\n",
       "      <td>0.000182</td>\n",
       "      <td>1.454</td>\n",
       "      <td>13.0</td>\n",
       "      <td>6.0</td>\n",
       "      <td>4.930462</td>\n",
       "    </tr>\n",
       "    <tr>\n",
       "      <th>1097</th>\n",
       "      <td>544667.25</td>\n",
       "      <td>86.00</td>\n",
       "      <td>119.640002</td>\n",
       "      <td>0.000110</td>\n",
       "      <td>1.391</td>\n",
       "      <td>12.0</td>\n",
       "      <td>6.0</td>\n",
       "      <td>5.968910</td>\n",
       "    </tr>\n",
       "  </tbody>\n",
       "</table>\n",
       "</div>"
      ],
      "text/plain": [
       "      impressions  clicks       spent       CTR  Avg CPC  App Install  \\\n",
       "314       2214.00    0.00    0.000000  0.000000    0.680          0.0   \n",
       "698      38580.00    5.00    8.520000  0.000130    1.704          0.0   \n",
       "846     103709.00   15.00   24.570000  0.000145    1.638         10.0   \n",
       "1136    544667.25   92.25  147.842500  0.000182    1.454         13.0   \n",
       "1097    544667.25   86.00  119.640002  0.000110    1.391         12.0   \n",
       "\n",
       "      total_conversion  Predicted  \n",
       "314                0.0   0.114682  \n",
       "698                1.0   1.344904  \n",
       "846                3.0   2.009553  \n",
       "1136               6.0   4.930462  \n",
       "1097               6.0   5.968910  "
      ]
     },
     "execution_count": 56,
     "metadata": {},
     "output_type": "execute_result"
    }
   ],
   "source": [
    "test.head()"
   ]
  },
  {
   "cell_type": "markdown",
   "metadata": {},
   "source": [
    "# Performance on Test Dataset"
   ]
  },
  {
   "cell_type": "code",
   "execution_count": 57,
   "metadata": {},
   "outputs": [
    {
     "name": "stdout",
     "output_type": "stream",
     "text": [
      "MSE 1.0\n",
      "MAE 0.653\n",
      "RMSE 1.0\n"
     ]
    }
   ],
   "source": [
    "import math\n",
    "# calculate the mean squared Error\n",
    "model_mse = mean_squared_error(test['total_conversion'], test['Predicted'])\n",
    "\n",
    "# calculate the mean absolute Error\n",
    "model_mae = mean_absolute_error(test['total_conversion'], test['Predicted'])\n",
    "\n",
    "# calculate the root mean squared Error\n",
    "model_rmse = math.sqrt(model_mse)\n",
    "\n",
    "# display the output\n",
    "print(\"MSE {:.3}\".format(model_mse))\n",
    "print(\"MAE {:.3}\".format(model_mae))\n",
    "print(\"RMSE {:.3}\".format(model_rmse))"
   ]
  },
  {
   "cell_type": "markdown",
   "metadata": {},
   "source": [
    "# Performance on Training Data Set"
   ]
  },
  {
   "cell_type": "code",
   "execution_count": 58,
   "metadata": {},
   "outputs": [
    {
     "name": "stdout",
     "output_type": "stream",
     "text": [
      "MSE 0.961\n",
      "MAE 0.651\n",
      "RMSE 0.98\n"
     ]
    }
   ],
   "source": [
    "import math\n",
    "# calculate the mean squared error\n",
    "model_mse = mean_squared_error(Data['total_conversion'], Data['Fitted_value'])\n",
    "\n",
    "# calculate the mean absolute Error\n",
    "model_mae = mean_absolute_error(Data['total_conversion'], Data['Fitted_value'])\n",
    "\n",
    "# calculate the root mean squared Error\n",
    "model_rmse = math.sqrt(model_mse)\n",
    "\n",
    "# display the output\n",
    "print(\"MSE {:.3}\".format(model_mse))\n",
    "print(\"MAE {:.3}\".format(model_mae))\n",
    "print(\"RMSE {:.3}\".format(model_rmse))"
   ]
  },
  {
   "cell_type": "markdown",
   "metadata": {},
   "source": [
    "## Equation:\n",
    "\n",
    "Y = B0 + B1.X1 + B2.X2 + ..... + e\n",
    "\n",
    "Total_conversion = (-0.402642) + 0.000016 x impressions + 0.027833 x clicks + (-0.049513) x spent + 1676.544942 x CTR + 0.709917 x Avg CPC + 0.018546 x App Install"
   ]
  },
  {
   "cell_type": "code",
   "execution_count": 59,
   "metadata": {},
   "outputs": [
    {
     "data": {
      "text/plain": [
       "const            -0.402642\n",
       "impressions       0.000016\n",
       "clicks            0.027833\n",
       "spent            -0.049513\n",
       "CTR            1676.544942\n",
       "Avg CPC           0.709917\n",
       "App Install       0.018546\n",
       "dtype: float64"
      ]
     },
     "execution_count": 59,
     "metadata": {},
     "output_type": "execute_result"
    }
   ],
   "source": [
    "final_model.params"
   ]
  },
  {
   "cell_type": "code",
   "execution_count": null,
   "metadata": {},
   "outputs": [],
   "source": []
  },
  {
   "cell_type": "code",
   "execution_count": null,
   "metadata": {},
   "outputs": [],
   "source": []
  },
  {
   "cell_type": "code",
   "execution_count": null,
   "metadata": {},
   "outputs": [],
   "source": []
  }
 ],
 "metadata": {
  "kernelspec": {
   "display_name": "Python 3",
   "language": "python",
   "name": "python3"
  },
  "language_info": {
   "codemirror_mode": {
    "name": "ipython",
    "version": 3
   },
   "file_extension": ".py",
   "mimetype": "text/x-python",
   "name": "python",
   "nbconvert_exporter": "python",
   "pygments_lexer": "ipython3",
   "version": "3.8.3"
  }
 },
 "nbformat": 4,
 "nbformat_minor": 2
}
